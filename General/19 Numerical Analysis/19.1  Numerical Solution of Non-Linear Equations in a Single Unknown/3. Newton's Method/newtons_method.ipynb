{
 "cells": [
  {
   "cell_type": "code",
   "execution_count": 1,
   "metadata": {
    "collapsed": true,
    "ExecuteTime": {
     "end_time": "2023-12-11T13:36:29.516712Z",
     "start_time": "2023-12-11T13:36:27.988420Z"
    }
   },
   "outputs": [
    {
     "data": {
      "text/plain": "   n       p_n  abs(p - p_0)\n0  0  0.755222  2.552224e-01\n1  1  0.739142  1.608075e-02\n2  2  0.739085  5.653223e-05\n3  3  0.739085  7.056461e-10",
      "text/html": "<div>\n<style scoped>\n    .dataframe tbody tr th:only-of-type {\n        vertical-align: middle;\n    }\n\n    .dataframe tbody tr th {\n        vertical-align: top;\n    }\n\n    .dataframe thead th {\n        text-align: right;\n    }\n</style>\n<table border=\"1\" class=\"dataframe\">\n  <thead>\n    <tr style=\"text-align: right;\">\n      <th></th>\n      <th>n</th>\n      <th>p_n</th>\n      <th>abs(p - p_0)</th>\n    </tr>\n  </thead>\n  <tbody>\n    <tr>\n      <th>0</th>\n      <td>0</td>\n      <td>0.755222</td>\n      <td>2.552224e-01</td>\n    </tr>\n    <tr>\n      <th>1</th>\n      <td>1</td>\n      <td>0.739142</td>\n      <td>1.608075e-02</td>\n    </tr>\n    <tr>\n      <th>2</th>\n      <td>2</td>\n      <td>0.739085</td>\n      <td>5.653223e-05</td>\n    </tr>\n    <tr>\n      <th>3</th>\n      <td>3</td>\n      <td>0.739085</td>\n      <td>7.056461e-10</td>\n    </tr>\n  </tbody>\n</table>\n</div>"
     },
     "execution_count": 1,
     "metadata": {},
     "output_type": "execute_result"
    }
   ],
   "source": [
    "import sympy as sp\n",
    "import pandas as pd\n",
    "\n",
    "# Define the symbol\n",
    "x = sp.symbols('x')\n",
    "\n",
    "# Define the function using sympy\n",
    "f_sympy = sp.cos(x) - x\n",
    "\n",
    "# Compute the derivative of the function\n",
    "df_sympy = sp.diff(f_sympy, x)\n",
    "\n",
    "# Convert the sympy expressions to functions that can be evaluated\n",
    "f_lambdified = sp.lambdify(x, f_sympy, 'numpy')\n",
    "df_lambdified = sp.lambdify(x, df_sympy, 'numpy')\n",
    "\n",
    "# Redefine Newton's method to use the lambdified functions\n",
    "def newtons_method_sympy(p_0, tol, max_iter):\n",
    "    # Initialize variables\n",
    "    p = p_0\n",
    "    iteration_data = []\n",
    "\n",
    "    # Iterate according to Newton's method\n",
    "    for n in range(max_iter):\n",
    "        p_n = p - f_lambdified(p) / df_lambdified(p)  # Compute the next approximation\n",
    "        iteration_data.append([n, p_n, abs(p_n - p)])  # Append iteration data\n",
    "\n",
    "        if abs(p_n - p) < tol:  # If the result is within the desired tolerance\n",
    "            break\n",
    "\n",
    "        p = p_n  # Update p for the next iteration\n",
    "\n",
    "    # Create a DataFrame with the results\n",
    "    df_results = pd.DataFrame(iteration_data, columns=['n', 'p_n', 'abs(p - p_0)'])\n",
    "    return df_results\n",
    "\n",
    "p_0 = 0.5  # Initial approximation\n",
    "tol = 1e-5  # Tolerance\n",
    "max_iter = 10  # Maximum number of iterations\n",
    "\n",
    "# Run Newton's method with the automatically derived derivative\n",
    "results_sympy = newtons_method_sympy(p_0, tol, max_iter)\n",
    "results_sympy"
   ]
  },
  {
   "cell_type": "code",
   "execution_count": null,
   "outputs": [],
   "source": [],
   "metadata": {
    "collapsed": false
   }
  }
 ],
 "metadata": {
  "kernelspec": {
   "display_name": "Python 3",
   "language": "python",
   "name": "python3"
  },
  "language_info": {
   "codemirror_mode": {
    "name": "ipython",
    "version": 2
   },
   "file_extension": ".py",
   "mimetype": "text/x-python",
   "name": "python",
   "nbconvert_exporter": "python",
   "pygments_lexer": "ipython2",
   "version": "2.7.6"
  }
 },
 "nbformat": 4,
 "nbformat_minor": 0
}
