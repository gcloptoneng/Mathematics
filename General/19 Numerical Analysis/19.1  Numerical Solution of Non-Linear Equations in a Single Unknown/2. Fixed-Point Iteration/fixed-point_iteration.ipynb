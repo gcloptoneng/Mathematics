{
 "cells": [
  {
   "cell_type": "markdown",
   "source": [
    "Make a plot of  $x^4-3 x^2-3=0$. Use the plot to determine the interval [a, b] on which the fixed-point method should be applied to find the root of $f(x) = 0$. Use the fixed-point method to find the root of $f(x) = 0$ to within $10^{-5}$. Use np.roots to check your answer."
   ],
   "metadata": {
    "collapsed": false
   }
  },
  {
   "cell_type": "code",
   "execution_count": 12,
   "metadata": {
    "collapsed": true,
    "ExecuteTime": {
     "end_time": "2023-12-11T06:23:39.016980Z",
     "start_time": "2023-12-11T06:23:38.653195Z"
    }
   },
   "outputs": [
    {
     "data": {
      "text/plain": "<Figure size 1000x600 with 1 Axes>",
      "image/png": "[encoded data removed]"
     },
     "metadata": {},
     "output_type": "display_data"
    }
   ],
   "source": [
    "import numpy as np\n",
    "import matplotlib.pyplot as plt\n",
    "import pandas as pd\n",
    "\n",
    "x = np.linspace(1, 2, 100)\n",
    "f = lambda x: x**4 - 3*x**2 - 3\n",
    "\n",
    "plt.figure(figsize = (10, 6))\n",
    "plt.plot(x, f(x), color =\"cyan\")\n",
    "plt.axhline(0, color = \"yellow\", linewidth = 0.5)\n",
    "plt.axvline(0, color = \"yellow\", linewidth = 0.5)\n",
    "plt.xlim(1, 2)\n",
    "plt.ylim(-5, 5)\n",
    "plt.grid(color = \"grey\", linestyle = \"--\", linewidth = 0.5)\n",
    "plt.show()"
   ]
  },
  {
   "cell_type": "code",
   "execution_count": null,
   "outputs": [],
   "source": [],
   "metadata": {
    "collapsed": false
   }
  },
  {
   "cell_type": "code",
   "execution_count": 24,
   "outputs": [
    {
     "data": {
      "text/plain": "     n       p_n     p_n+1  abs(p_n+1 - p_n)\n0    0  1.500000  1.767059          0.267059\n1    1  1.767059  1.875299          0.108239\n2    2  1.875299  1.918610          0.043311\n3    3  1.918610  1.935827          0.017217\n4    4  1.935827  1.942651          0.006825\n5    5  1.942651  1.945353          0.002702\n6    6  1.945353  1.946423          0.001069\n7    7  1.946423  1.946846          0.000423\n8    8  1.946846  1.947013          0.000167\n9    9  1.947013  1.947080          0.000066\n10  10  1.947080  1.947106          0.000026\n11  11  1.947106  1.947116          0.000010\n12  12  1.947116  1.947120          0.000004",
      "text/html": "<div>\n<style scoped>\n    .dataframe tbody tr th:only-of-type {\n        vertical-align: middle;\n    }\n\n    .dataframe tbody tr th {\n        vertical-align: top;\n    }\n\n    .dataframe thead th {\n        text-align: right;\n    }\n</style>\n<table border=\"1\" class=\"dataframe\">\n  <thead>\n    <tr style=\"text-align: right;\">\n      <th></th>\n      <th>n</th>\n      <th>p_n</th>\n      <th>p_n+1</th>\n      <th>abs(p_n+1 - p_n)</th>\n    </tr>\n  </thead>\n  <tbody>\n    <tr>\n      <th>0</th>\n      <td>0</td>\n      <td>1.500000</td>\n      <td>1.767059</td>\n      <td>0.267059</td>\n    </tr>\n    <tr>\n      <th>1</th>\n      <td>1</td>\n      <td>1.767059</td>\n      <td>1.875299</td>\n      <td>0.108239</td>\n    </tr>\n    <tr>\n      <th>2</th>\n      <td>2</td>\n      <td>1.875299</td>\n      <td>1.918610</td>\n      <td>0.043311</td>\n    </tr>\n    <tr>\n      <th>3</th>\n      <td>3</td>\n      <td>1.918610</td>\n      <td>1.935827</td>\n      <td>0.017217</td>\n    </tr>\n    <tr>\n      <th>4</th>\n      <td>4</td>\n      <td>1.935827</td>\n      <td>1.942651</td>\n      <td>0.006825</td>\n    </tr>\n    <tr>\n      <th>5</th>\n      <td>5</td>\n      <td>1.942651</td>\n      <td>1.945353</td>\n      <td>0.002702</td>\n    </tr>\n    <tr>\n      <th>6</th>\n      <td>6</td>\n      <td>1.945353</td>\n      <td>1.946423</td>\n      <td>0.001069</td>\n    </tr>\n    <tr>\n      <th>7</th>\n      <td>7</td>\n      <td>1.946423</td>\n      <td>1.946846</td>\n      <td>0.000423</td>\n    </tr>\n    <tr>\n      <th>8</th>\n      <td>8</td>\n      <td>1.946846</td>\n      <td>1.947013</td>\n      <td>0.000167</td>\n    </tr>\n    <tr>\n      <th>9</th>\n      <td>9</td>\n      <td>1.947013</td>\n      <td>1.947080</td>\n      <td>0.000066</td>\n    </tr>\n    <tr>\n      <th>10</th>\n      <td>10</td>\n      <td>1.947080</td>\n      <td>1.947106</td>\n      <td>0.000026</td>\n    </tr>\n    <tr>\n      <th>11</th>\n      <td>11</td>\n      <td>1.947106</td>\n      <td>1.947116</td>\n      <td>0.000010</td>\n    </tr>\n    <tr>\n      <th>12</th>\n      <td>12</td>\n      <td>1.947116</td>\n      <td>1.947120</td>\n      <td>0.000004</td>\n    </tr>\n  </tbody>\n</table>\n</div>"
     },
     "execution_count": 24,
     "metadata": {},
     "output_type": "execute_result"
    }
   ],
   "source": [
    "def fixed_point(p_0, tol = 1e-5, max_iter = 100):\n",
    "\n",
    "    g = lambda x: (3*x**2 + 3)**(1/4)\n",
    "\n",
    "    records = []\n",
    "    for n in range(max_iter):\n",
    "        p_n = g(p_0)\n",
    "        records.append([n, p_0, p_n, abs(p_n - p_0)])\n",
    "        if abs(p_n - p_0) < tol:\n",
    "            break\n",
    "        p_0 = p_n\n",
    "\n",
    "    table = pd.DataFrame(records, columns = [\"n\", \"p_n\", \"p_n+1\", \"abs(p_n+1 - p_n)\"])\n",
    "    return table\n",
    "\n",
    "fixed_point(1.5)\n"
   ],
   "metadata": {
    "collapsed": false,
    "ExecuteTime": {
     "end_time": "2023-12-11T06:37:16.617643Z",
     "start_time": "2023-12-11T06:37:16.614419Z"
    }
   }
  },
  {
   "cell_type": "code",
   "execution_count": 19,
   "outputs": [
    {
     "data": {
      "text/plain": "array([-1.94712297e+00+0.j        ,  1.94712297e+00+0.j        ,\n        2.77555756e-17+0.88954362j,  2.77555756e-17-0.88954362j])"
     },
     "execution_count": 19,
     "metadata": {},
     "output_type": "execute_result"
    }
   ],
   "source": [
    "coefficients = [1, 0, -3, 0, -3]\n",
    "np.roots(coefficients)"
   ],
   "metadata": {
    "collapsed": false,
    "ExecuteTime": {
     "end_time": "2023-12-11T06:26:56.972336Z",
     "start_time": "2023-12-11T06:26:56.968117Z"
    }
   }
  },
  {
   "cell_type": "code",
   "execution_count": 25,
   "outputs": [
    {
     "name": "stdout",
     "output_type": "stream",
     "text": [
      "b''\n"
     ]
    }
   ],
   "source": [
    "import subprocess\n",
    "\n",
    "# Wolfram script\n",
    "script = \"\"\"\n",
    "Solve[x^4 - 3*x^2 - 3 == 0, x]\n",
    "\"\"\"\n",
    "\n",
    "# Save the script to a file\n",
    "with open(\"solve_equation.wl\", \"w\") as file:\n",
    "    file.write(script)\n",
    "\n",
    "# Run the script using Mathematica/Wolfram Engine\n",
    "result = subprocess.run([\"wolframscript\", \"-file\", \"solve_equation.wl\"], capture_output=True)\n",
    "\n",
    "# Print the output\n",
    "print(result.stdout)\n"
   ],
   "metadata": {
    "collapsed": false,
    "ExecuteTime": {
     "end_time": "2023-12-11T06:45:17.047693Z",
     "start_time": "2023-12-11T06:44:42.939837Z"
    }
   }
  },
  {
   "cell_type": "code",
   "execution_count": null,
   "outputs": [],
   "source": [],
   "metadata": {
    "collapsed": false
   }
  }
 ],
 "metadata": {
  "kernelspec": {
   "display_name": "Python 3",
   "language": "python",
   "name": "python3"
  },
  "language_info": {
   "codemirror_mode": {
    "name": "ipython",
    "version": 2
   },
   "file_extension": ".py",
   "mimetype": "text/x-python",
   "name": "python",
   "nbconvert_exporter": "python",
   "pygments_lexer": "ipython2",
   "version": "2.7.6"
  }
 },
 "nbformat": 4,
 "nbformat_minor": 0
}
